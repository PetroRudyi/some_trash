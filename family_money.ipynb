{
  "nbformat": 4,
  "nbformat_minor": 0,
  "metadata": {
    "colab": {
      "provenance": [],
      "authorship_tag": "ABX9TyNFXdNISGW1RfzzIIO1lgOY",
      "include_colab_link": true
    },
    "kernelspec": {
      "name": "python3",
      "display_name": "Python 3"
    },
    "language_info": {
      "name": "python"
    }
  },
  "cells": [
    {
      "cell_type": "markdown",
      "metadata": {
        "id": "view-in-github",
        "colab_type": "text"
      },
      "source": [
        "<a href=\"https://colab.research.google.com/github/PetroRudyi/some_trash/blob/main/family_money.ipynb\" target=\"_parent\"><img src=\"https://colab.research.google.com/assets/colab-badge.svg\" alt=\"Open In Colab\"/></a>"
      ]
    },
    {
      "cell_type": "code",
      "source": [
        "import math\n",
        "import re"
      ],
      "metadata": {
        "id": "G8G8dA6PzbFp"
      },
      "execution_count": 1,
      "outputs": []
    },
    {
      "cell_type": "code",
      "source": [
        "banka_value = 9500"
      ],
      "metadata": {
        "id": "uEMsp4rLTRBL"
      },
      "execution_count": 12,
      "outputs": []
    },
    {
      "cell_type": "code",
      "source": [
        "# Вхідне повідомлення\n",
        "message = \"\"\"\n",
        "Piter Rudyi [Kyiv, 02/04], [10/5/2024 11:01 PM]\n",
        "#спільні_витрати 875 грн - Петро\n",
        "\n",
        "Piter Rudyi [Kyiv, 02/04], [10/5/2024 11:01 PM]\n",
        "#спільні_витрати 510 грн - Ната\n",
        "\n",
        "Piter Rudyi [Kyiv, 02/04], [10/5/2024 11:01 PM]\n",
        "#спільні_витрати 90 + 187 + 275 + 180 - Петро\n",
        "\n",
        "21 + 1434 + 1392 - Ната\n",
        "\n",
        "Piter Rudyi [Kyiv, 02/04], [10/5/2024 11:01 PM]\n",
        "#спільні_витрати 715 - Ната\n",
        "\n",
        "Piter Rudyi [Kyiv, 02/04], [10/5/2024 11:01 PM]\n",
        "#спільні_витрати 273 - Петро\n",
        "\n",
        "Piter Rudyi [Kyiv, 02/04], [10/5/2024 11:01 PM]\n",
        "#спільні_витрати 105 - Ната\n",
        "\n",
        "Piter Rudyi [Kyiv, 02/04], [10/5/2024 11:01 PM]\n",
        "#спільні_витрати 472 - Петро\n",
        "\n",
        "Piter Rudyi [Kyiv, 02/04], [10/5/2024 11:01 PM]\n",
        "#спільні_витрати 300 - ната\n",
        "933 - Петро\n",
        "\n",
        "Piter Rudyi [Kyiv, 02/04], [10/5/2024 11:01 PM]\n",
        "#спільні_витрати 97 Петро\n",
        "\n",
        "Piter Rudyi [Kyiv, 02/04], [10/5/2024 11:01 PM]\n",
        "#спільні_витрати 1150 - Петро\n",
        "\n",
        "Piter Rudyi [Kyiv, 02/04], [10/5/2024 11:01 PM]\n",
        "#спільні_витрати 369 - Петро\n",
        "\n",
        "\n",
        "Фарша не було\n",
        "\n",
        "Piter Rudyi [Kyiv, 02/04], [10/5/2024 11:01 PM]\n",
        "#спільні_витрати 833 - Петро\n",
        "\n",
        "482 - Ната\n",
        "\n",
        "Piter Rudyi [Kyiv, 02/04], [10/5/2024 11:01 PM]\n",
        "#спільні_витрати 375 - Петро\n",
        "\n",
        "Piter Rudyi [Kyiv, 02/04], [10/5/2024 11:01 PM]\n",
        "#спільні_витрати 200 Ната\n",
        "\n",
        "Piter Rudyi [Kyiv, 02/04], [10/5/2024 11:01 PM]\n",
        "#спільні_витрати 263 Петро\n",
        "\n",
        "Piter Rudyi [Kyiv, 02/04], [10/5/2024 11:01 PM]\n",
        "#спільні_витрати 560 грн Ната\n",
        "\n",
        "Piter Rudyi [Kyiv, 02/04], [10/5/2024 11:01 PM]\n",
        "#спільні_витрати 120 грн - Петро\n",
        "\n",
        "Piter Rudyi [Kyiv, 02/04], [10/5/2024 11:01 PM]\n",
        "#спільні_витрати 872 грн Ната\n",
        "\n",
        "Piter Rudyi [Kyiv, 02/04], [10/5/2024 11:01 PM]\n",
        "#спільні_витрати 914 грн Ната\n",
        "\n",
        "Piter Rudyi [Kyiv, 02/04], [10/5/2024 11:01 PM]\n",
        "#спільні_витрати 250 - Петро\n",
        "\n",
        "Piter Rudyi [Kyiv, 02/04], [10/5/2024 11:01 PM]\n",
        "#спільні_витрати 277 - Петро\n",
        "\n",
        "Piter Rudyi [Kyiv, 02/04], [10/5/2024 11:01 PM]\n",
        "#спільні_витрати 917 - Ната\n",
        "\"\"\"\n",
        "\n",
        "# Розділяємо повідомлення по переносу рядка\n",
        "lines = message.splitlines()\n",
        "\n",
        "# Створюємо порожні списки для Нати і Петра\n",
        "nata_list = []\n",
        "petro_list = []\n",
        "\n",
        "# Перевіряємо кожен рядок\n",
        "for line in lines:\n",
        "    if \"Ната\" in line:\n",
        "        nata_list.extend(re.findall(r'\\d+', line))\n",
        "    if \"Петро\" in line:\n",
        "        petro_list.extend(re.findall(r'\\d+', line))\n",
        "\n",
        "\n",
        "nata_list = [int(i) for i in nata_list]\n",
        "petro_list = [int(i) for i in petro_list]\n",
        "# Виводимо результат\n",
        "print(\"Рядки з Натою:\")\n",
        "print(nata_list)\n",
        "\n",
        "print(\"\\nРядки з Петром:\")\n",
        "print(petro_list)\n"
      ],
      "metadata": {
        "colab": {
          "base_uri": "https://localhost:8080/"
        },
        "id": "lhN6tO_UQ10E",
        "outputId": "c93452f5-795b-4027-c8c7-0dd838334a9a"
      },
      "execution_count": 14,
      "outputs": [
        {
          "output_type": "stream",
          "name": "stdout",
          "text": [
            "Рядки з Натою:\n",
            "[510, 21, 1434, 1392, 715, 105, 482, 200, 560, 872, 914, 917]\n",
            "\n",
            "Рядки з Петром:\n",
            "[875, 90, 187, 275, 180, 273, 472, 933, 97, 1150, 369, 833, 375, 263, 120, 250, 277]\n"
          ]
        }
      ]
    },
    {
      "cell_type": "code",
      "execution_count": 15,
      "metadata": {
        "id": "Gwl2kZgnx6Jg"
      },
      "outputs": [],
      "source": [
        "P = sum(nata_list)\n",
        "N = sum(petro_list) + 320\n",
        "per_P = P/(P+N)\n",
        "per_N = N/(P+N)"
      ]
    },
    {
      "cell_type": "code",
      "source": [
        "print(f'Петро витратив {P} грн, це {per_P}%')\n",
        "print(f'Ната витратила {N} грн, це {per_N}%')\n",
        "\n",
        "offer_name = ''\n",
        "\n",
        "if P>N:\n",
        "  offer_name = 'Петро витратив більше'\n",
        "elif P<N:\n",
        "  offer_name = 'Ната витратила більше'\n",
        "else:\n",
        "  offer_name = 'витратили рівно'\n",
        "\n",
        "print(f'\\nЗагалом {P+N} грн, з різницею {abs(N-P)} грн - {offer_name}\\n\\n')\n",
        "print(f'Петро має отримати {banka_value*per_P} грн, Ната має отримати {banka_value*per_N} грн')"
      ],
      "metadata": {
        "colab": {
          "base_uri": "https://localhost:8080/"
        },
        "id": "AvF_KaZVyZiS",
        "outputId": "0acb26e5-3dc4-420e-ab1e-d66b3389b5ad"
      },
      "execution_count": 18,
      "outputs": [
        {
          "output_type": "stream",
          "name": "stdout",
          "text": [
            "Петро витратив 8122 грн, це 0.5253217773753315%\n",
            "Ната витратила 7339 грн, це 0.4746782226246685%\n",
            "\n",
            "Загалом 15461 грн, з різницею 783 грн - Петро витратив більше\n",
            "\n",
            "\n",
            "Петро має отримати 4990.556885065649 грн, Ната має отримати 4509.443114934351 грн\n"
          ]
        }
      ]
    },
    {
      "cell_type": "code",
      "source": [
        "4990+4510"
      ],
      "metadata": {
        "id": "rH6gH-zF36fQ",
        "colab": {
          "base_uri": "https://localhost:8080/"
        },
        "outputId": "f5f7aa6d-077c-4fc5-bc2d-3c3028edc135"
      },
      "execution_count": 19,
      "outputs": [
        {
          "output_type": "execute_result",
          "data": {
            "text/plain": [
              "9500"
            ]
          },
          "metadata": {},
          "execution_count": 19
        }
      ]
    },
    {
      "cell_type": "code",
      "source": [],
      "metadata": {
        "id": "TGQlv_yRUIlk"
      },
      "execution_count": null,
      "outputs": []
    }
  ]
}